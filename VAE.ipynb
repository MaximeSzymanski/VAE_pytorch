{
  "cells": [
    {
      "cell_type": "markdown",
      "metadata": {
        "id": "view-in-github",
        "colab_type": "text"
      },
      "source": [
        "<a href=\"https://colab.research.google.com/github/MaximeSzymanski/VAE_pytorch/blob/main/VAE.ipynb\" target=\"_parent\"><img src=\"https://colab.research.google.com/assets/colab-badge.svg\" alt=\"Open In Colab\"/></a>"
      ]
    },
    {
      "cell_type": "markdown",
      "source": [],
      "metadata": {
        "id": "wO1VFuW2uNGJ"
      }
    },
    {
      "cell_type": "code",
      "execution_count": 1,
      "metadata": {
        "collapsed": true,
        "ExecuteTime": {
          "start_time": "2023-10-23T13:56:12.196394Z",
          "end_time": "2023-10-23T13:56:13.480009Z"
        },
        "id": "3TMoxB50sg5D"
      },
      "outputs": [],
      "source": [
        "import torch\n",
        "# get mnist data\n",
        "import torchvision\n",
        "from torchvision import datasets, transforms\n"
      ]
    },
    {
      "cell_type": "code",
      "execution_count": 2,
      "outputs": [],
      "source": [
        "# get mnist data and transform to tensor, to the right device.\n",
        "transform = transforms.Compose([\n",
        "        transforms.ToTensor(),\n",
        "        transforms.Normalize((0.5,), (0.5,))\n",
        "        ])\n",
        "\n",
        "device = torch.device('cuda' if torch.cuda.is_available() else 'cpu')\n",
        "mnist_trainset = datasets.MNIST(root='./data', train=True, download=True, transform=transform)\n",
        "mnist_testset = datasets.MNIST(root='./data', train=False, download=True, transform=transform)\n",
        "\n"
      ],
      "metadata": {
        "ExecuteTime": {
          "start_time": "2023-10-23T13:56:13.478139Z",
          "end_time": "2023-10-23T13:56:13.520601Z"
        },
        "id": "v2Zexnqssg5F"
      }
    },
    {
      "cell_type": "code",
      "execution_count": 3,
      "outputs": [
        {
          "output_type": "display_data",
          "data": {
            "text/plain": [
              "<Figure size 640x480 with 10 Axes>"
            ],
            "image/png": "[encoded data removed]"
          },
          "metadata": {}
        }
      ],
      "source": [
        "# plot 10 images\n",
        "import matplotlib.pyplot as plt\n",
        "import numpy as np\n",
        "for i in range(10):\n",
        "    plt.subplot(2, 5, i+1)\n",
        "    plt.imshow(mnist_trainset[i][0].numpy().reshape(28, 28), cmap='gray')\n",
        "    plt.title(mnist_trainset[i][1])\n",
        "    plt.axis('off')"
      ],
      "metadata": {
        "ExecuteTime": {
          "start_time": "2023-10-23T13:56:13.521388Z",
          "end_time": "2023-10-23T13:56:13.914630Z"
        },
        "id": "x1EoFsKAsg5F",
        "outputId": "d924d541-a7df-4c72-d1c3-a93607c71178",
        "colab": {
          "base_uri": "https://localhost:8080/",
          "height": 346
        }
      }
    },
    {
      "cell_type": "code",
      "execution_count": 4,
      "outputs": [
        {
          "output_type": "display_data",
          "data": {
            "text/plain": [
              "<Figure size 640x480 with 1 Axes>"
            ],
            "image/png": "[encoded data removed]"
          },
          "metadata": {}
        }
      ],
      "source": [
        "# plot the distribution of labels, with one color for each label\n",
        "labels = mnist_trainset.targets.numpy()\n",
        "plt.hist(labels, bins=np.arange(labels.min(), labels.max()+1))\n",
        "plt.xticks(np.arange(labels.min(), labels.max()+1))\n",
        "plt.show()"
      ],
      "metadata": {
        "ExecuteTime": {
          "start_time": "2023-10-23T13:56:13.916386Z",
          "end_time": "2023-10-23T13:56:13.980141Z"
        },
        "id": "WAnWhy6rsg5F",
        "outputId": "2c1dda38-733d-4f5a-9345-f2e00ac53dc0",
        "colab": {
          "base_uri": "https://localhost:8080/",
          "height": 430
        }
      }
    },
    {
      "cell_type": "code",
      "execution_count": 5,
      "outputs": [],
      "source": [
        "class Encoder(torch.nn.Module):\n",
        "    def __init__(self, input_dim, hidden_dim, latent_dim):\n",
        "        super(Encoder,self).__init__()\n",
        "        self.conv1 = torch.nn.Conv2d(1, 32, kernel_size=3, stride=1, padding=1)\n",
        "        # relu\n",
        "        # pooling\n",
        "        self.conv2 = torch.nn.Conv2d(32, 64, kernel_size=3, stride=1, padding=1)\n",
        "        # relu\n",
        "        # pooling\n",
        "        # flatten\n",
        "        self.fc1 = torch.nn.Linear(64*7*7, hidden_dim)\n",
        "        self.fc2 = torch.nn.Linear(hidden_dim, latent_dim)\n",
        "\n",
        "\n",
        "    def forward(self, x):\n",
        "        # x: batch_size * 1 * 28 * 28\n",
        "        x = self.conv1(x)\n",
        "        x = torch.nn.functional.relu(x)\n",
        "        x = torch.nn.functional.max_pool2d(x, kernel_size=2, stride=2)\n",
        "        # x: batch_size * 32 * 28 * 28\n",
        "        x = self.conv2(x)\n",
        "        x = torch.nn.functional.relu(x)\n",
        "        x = torch.nn.functional.max_pool2d(x, kernel_size=2, stride=2)\n",
        "        # x: batch_size * 64 * 28 * 28\n",
        "        # flatten\n",
        "        x = x.view(-1, 64*7*7)\n",
        "        # x: batch_size * 64*7*7\n",
        "        x = self.fc1(x)\n",
        "        x = torch.nn.functional.relu(x)\n",
        "        # x: batch_size * hidden_dim\n",
        "        x = self.fc2(x)\n",
        "        # x: batch_size * latent_dim\n",
        "        return x"
      ],
      "metadata": {
        "ExecuteTime": {
          "start_time": "2023-10-23T13:56:13.982737Z",
          "end_time": "2023-10-23T13:56:13.984762Z"
        },
        "id": "ZK-BqssRsg5F"
      }
    },
    {
      "cell_type": "code",
      "execution_count": 6,
      "outputs": [],
      "source": [
        "encoder = Encoder(1, 128, 2)"
      ],
      "metadata": {
        "ExecuteTime": {
          "start_time": "2023-10-23T13:56:13.985392Z",
          "end_time": "2023-10-23T13:56:13.989251Z"
        },
        "id": "2RwboX70sg5F"
      }
    },
    {
      "cell_type": "code",
      "execution_count": 7,
      "outputs": [
        {
          "output_type": "stream",
          "name": "stdout",
          "text": [
            "Encoder(\n",
            "  (conv1): Conv2d(1, 32, kernel_size=(3, 3), stride=(1, 1), padding=(1, 1))\n",
            "  (conv2): Conv2d(32, 64, kernel_size=(3, 3), stride=(1, 1), padding=(1, 1))\n",
            "  (fc1): Linear(in_features=3136, out_features=128, bias=True)\n",
            "  (fc2): Linear(in_features=128, out_features=2, bias=True)\n",
            ")\n"
          ]
        }
      ],
      "source": [
        "print(encoder)"
      ],
      "metadata": {
        "ExecuteTime": {
          "start_time": "2023-10-23T13:56:13.989872Z",
          "end_time": "2023-10-23T13:56:13.992316Z"
        },
        "id": "db1vIK9qsg5F",
        "outputId": "052b6f7a-8654-4b2d-b456-8c9e3bf42ee1",
        "colab": {
          "base_uri": "https://localhost:8080/"
        }
      }
    },
    {
      "cell_type": "code",
      "execution_count": 8,
      "outputs": [
        {
          "output_type": "display_data",
          "data": {
            "text/plain": [
              "<Figure size 640x480 with 2 Axes>"
            ],
            "image/png": "[encoded data removed]"
          },
          "metadata": {}
        }
      ],
      "source": [
        "# encode the first 10 images\n",
        "images = mnist_trainset.data[:10].float().unsqueeze(1)/255\n",
        "encoder(images)\n",
        "# plot the encoded images in 2D\n",
        "encoded_images = encoder(images).detach().numpy()\n",
        "plt.scatter(encoded_images[:, 0], encoded_images[:, 1], c=mnist_trainset.targets[:10].numpy())\n",
        "plt.colorbar()\n",
        "plt.show()"
      ],
      "metadata": {
        "ExecuteTime": {
          "start_time": "2023-10-23T13:56:13.993337Z",
          "end_time": "2023-10-23T13:56:14.086464Z"
        },
        "id": "gUGjy1WSsg5G",
        "outputId": "e2aaa058-3631-4b14-bb5c-b6864e906974",
        "colab": {
          "base_uri": "https://localhost:8080/",
          "height": 435
        }
      }
    },
    {
      "cell_type": "code",
      "execution_count": 9,
      "outputs": [],
      "source": [
        "class SamplingLayer(torch.nn.Module):\n",
        "    def __init__(self):\n",
        "        super(SamplingLayer, self).__init__()\n",
        "\n",
        "    def forward(self, mu, logvar):\n",
        "        std = torch.exp(0.5*logvar)\n",
        "        eps = torch.randn_like(std)\n",
        "        return mu + eps*std\n",
        "\n",
        "class VariationalEncoder(torch.nn.Module):\n",
        "    def __init__(self, input_dim, hidden_dim, latent_dim):\n",
        "        super(VariationalEncoder,self).__init__()\n",
        "        self.conv1 = torch.nn.Conv2d(1, 32, kernel_size=3, stride=1, padding=1)\n",
        "        # relu\n",
        "        # pooling\n",
        "        self.conv2 = torch.nn.Conv2d(32, 64, kernel_size=3, stride=1, padding=1)\n",
        "        # relu\n",
        "        # pooling\n",
        "        # flatten\n",
        "        self.fc1 = torch.nn.Linear(64*7*7, hidden_dim)\n",
        "        self.mu = torch.nn.Linear(hidden_dim, latent_dim)\n",
        "        self.logvar = torch.nn.Linear(hidden_dim, latent_dim)\n",
        "        self.sampling = SamplingLayer()\n",
        "\n",
        "    def forward(self, x):\n",
        "        original_x = x\n",
        "        # x: batch_size * 1 * 28 * 28\n",
        "\n",
        "        x = self.conv1(x)\n",
        "        x = torch.nn.functional.relu(x)\n",
        "        x = torch.nn.functional.max_pool2d(x, kernel_size=2, stride=2)\n",
        "        # x: batch_size * 32 * 28 * 28\n",
        "        x = self.conv2(x)\n",
        "        x = torch.nn.functional.relu(x)\n",
        "        x = torch.nn.functional.max_pool2d(x, kernel_size=2, stride=2)\n",
        "        # x: batch_size * 64 * 28 * 28\n",
        "        # flatten\n",
        "        x = x.view(-1, 64*7*7)\n",
        "        # x: batch_size * 64*7*7\n",
        "        x = self.fc1(x)\n",
        "        x = torch.nn.functional.relu(x)\n",
        "        # x: batch_size * hidden_dim\n",
        "        mu = self.mu(x)\n",
        "        sigma = self.logvar(x)\n",
        "        z = self.sampling(mu, sigma)\n",
        "        # print the shape\n",
        "        \"\"\"print(f'original_x: {original_x.shape}')\n",
        "        print(f'mu: {mu.shape}')\n",
        "        print(f'sigma: {sigma.shape}')\n",
        "        print(f'z: {z.shape}')\"\"\"\n",
        "\n",
        "        # x: batch_size * latent_dim\n",
        "        return z, mu, sigma, original_x"
      ],
      "metadata": {
        "ExecuteTime": {
          "start_time": "2023-10-23T13:56:14.086673Z",
          "end_time": "2023-10-23T13:56:14.091876Z"
        },
        "id": "sUPlfy3csg5G"
      }
    },
    {
      "cell_type": "code",
      "execution_count": 10,
      "outputs": [],
      "source": [
        "class VariationalDecoder(torch.nn.Module):\n",
        "    def __init__(self, latent_dim, hidden_dim, output_dim):\n",
        "        super(VariationalDecoder, self).__init__()\n",
        "        self.hidden_dim = hidden_dim\n",
        "        # Fully connected layer\n",
        "        self.fc1 = torch.nn.Linear(latent_dim, hidden_dim)\n",
        "\n",
        "        # Transpose Convolutional layers\n",
        "        self.t_conv1 = torch.nn.ConvTranspose2d(hidden_dim, 64, kernel_size=7, stride=2, padding=1)\n",
        "        self.t_conv2 = torch.nn.ConvTranspose2d(64, 32, kernel_size=7, stride=2, padding=1)\n",
        "        self.t_conv3 = torch.nn.ConvTranspose2d(32, 1, kernel_size=6, stride=2, padding=1)\n",
        "\n",
        "    def forward(self, x):\n",
        "        # x: batch_size * latent_dim\n",
        "        x = self.fc1(x)\n",
        "        x = torch.nn.functional.relu(x)\n",
        "        # x: batch_size * hidden_dim\n",
        "        x = x.view(x.size(0), -1, 1, 1)\n",
        "        # x: batch_size * hidden_dim * 1 * 1\n",
        "        x = self.t_conv1(x)\n",
        "        x = torch.nn.functional.relu(x)\n",
        "        # x: batch_size * 64 * 2 * 2\n",
        "        x = self.t_conv2(x)\n",
        "        x = torch.nn.functional.relu(x)\n",
        "        # x: batch_size * 32 * 4 * 4\n",
        "        x = self.t_conv3(x)\n",
        "        # x: batch_size * 1 * 4 * 4\n",
        "        x = torch.sigmoid(x)\n",
        "        # x: batch_size * 1 * 4 * 4\n",
        "        return x\n"
      ],
      "metadata": {
        "ExecuteTime": {
          "start_time": "2023-10-23T13:56:14.095410Z",
          "end_time": "2023-10-23T13:56:14.097139Z"
        },
        "id": "_ZlFaNVPsg5G"
      }
    },
    {
      "cell_type": "code",
      "execution_count": 11,
      "outputs": [],
      "source": [
        "variational_encoder = VariationalEncoder(1, 128, 2)\n",
        "variational_decoder = VariationalDecoder(2, 128, 1)"
      ],
      "metadata": {
        "ExecuteTime": {
          "start_time": "2023-10-23T13:56:14.098969Z",
          "end_time": "2023-10-23T13:56:14.103163Z"
        },
        "id": "uruRp2xrsg5G"
      }
    },
    {
      "cell_type": "code",
      "execution_count": 12,
      "outputs": [
        {
          "output_type": "stream",
          "name": "stdout",
          "text": [
            "VariationalEncoder(\n",
            "  (conv1): Conv2d(1, 32, kernel_size=(3, 3), stride=(1, 1), padding=(1, 1))\n",
            "  (conv2): Conv2d(32, 64, kernel_size=(3, 3), stride=(1, 1), padding=(1, 1))\n",
            "  (fc1): Linear(in_features=3136, out_features=128, bias=True)\n",
            "  (mu): Linear(in_features=128, out_features=2, bias=True)\n",
            "  (logvar): Linear(in_features=128, out_features=2, bias=True)\n",
            "  (sampling): SamplingLayer()\n",
            ")\n",
            "VariationalDecoder(\n",
            "  (fc1): Linear(in_features=2, out_features=128, bias=True)\n",
            "  (t_conv1): ConvTranspose2d(128, 64, kernel_size=(7, 7), stride=(2, 2), padding=(1, 1))\n",
            "  (t_conv2): ConvTranspose2d(64, 32, kernel_size=(7, 7), stride=(2, 2), padding=(1, 1))\n",
            "  (t_conv3): ConvTranspose2d(32, 1, kernel_size=(6, 6), stride=(2, 2), padding=(1, 1))\n",
            ")\n"
          ]
        }
      ],
      "source": [
        "print(variational_encoder)\n",
        "print(variational_decoder)"
      ],
      "metadata": {
        "ExecuteTime": {
          "start_time": "2023-10-23T13:56:14.105357Z",
          "end_time": "2023-10-23T13:56:14.139715Z"
        },
        "id": "hAciYEzcsg5G",
        "outputId": "efcf7d5e-b247-467d-83a6-9512d7ed3208",
        "colab": {
          "base_uri": "https://localhost:8080/"
        }
      }
    },
    {
      "cell_type": "code",
      "execution_count": 13,
      "outputs": [
        {
          "output_type": "display_data",
          "data": {
            "text/plain": [
              "<Figure size 640x480 with 2 Axes>"
            ],
            "image/png": "[encoded data removed]"
          },
          "metadata": {}
        },
        {
          "output_type": "display_data",
          "data": {
            "text/plain": [
              "<Figure size 640x480 with 1 Axes>"
            ],
            "image/png": "[encoded data removed]"
          },
          "metadata": {}
        }
      ],
      "source": [
        "# encode the first 10 images\n",
        "images = mnist_trainset.data[1].float().unsqueeze(0).unsqueeze(1)/255\n",
        "encoded = variational_encoder(images)\n",
        "decoded = variational_decoder(encoded[0])\n",
        "# plot the encoded images in 2D, and the decoded images\n",
        "encoded_images = encoded[0].detach().numpy()\n",
        "plt.scatter(encoded_images[:, 0], encoded_images[:, 1], c=mnist_trainset.targets[0].numpy())\n",
        "plt.colorbar()\n",
        "plt.show()\n",
        "plt.imshow(decoded[0, 0].detach().numpy())\n",
        "plt.show()\n",
        "\n"
      ],
      "metadata": {
        "ExecuteTime": {
          "start_time": "2023-10-23T13:56:14.111457Z",
          "end_time": "2023-10-23T13:56:14.307890Z"
        },
        "id": "bONBAHbmsg5G",
        "outputId": "ad5e507d-5ecb-4906-a47d-3d9ccf707005",
        "colab": {
          "base_uri": "https://localhost:8080/",
          "height": 843
        }
      }
    },
    {
      "cell_type": "code",
      "execution_count": 14,
      "outputs": [],
      "source": [
        "class VariationalAutoEncoder(torch.nn.Module):\n",
        "    def __init__(self, input_dim, hidden_dim, latent_dim):\n",
        "        super(VariationalAutoEncoder, self).__init__()\n",
        "        self.encoder = VariationalEncoder(input_dim, hidden_dim, latent_dim)\n",
        "        self.decoder = VariationalDecoder(latent_dim, hidden_dim, input_dim)\n",
        "\n",
        "    def forward(self, x):\n",
        "        z, mu, sigma, original_x = self.encoder(x)\n",
        "        x = self.decoder(z)\n",
        "        return x, mu, sigma, original_x"
      ],
      "metadata": {
        "ExecuteTime": {
          "start_time": "2023-10-23T13:56:14.433574Z",
          "end_time": "2023-10-23T13:56:14.439126Z"
        },
        "id": "uPF_bR_Nsg5G"
      }
    },
    {
      "cell_type": "code",
      "execution_count": 15,
      "outputs": [],
      "source": [
        "def KL_loss(mu, sigma):\n",
        "    return -0.5 * torch.sum(1 + sigma - mu.pow(2) - sigma.exp())\n",
        "\n",
        "def reconstruction_loss(original_x, x):\n",
        "    return torch.nn.functional.binary_cross_entropy(x, original_x, reduction='sum')\n",
        "\n",
        "def loss_function(x, original_x, mu, sigma,k1=1,k2=1e-3):\n",
        "    return k1*KL_loss(mu, sigma) + k2*reconstruction_loss(original_x, x)"
      ],
      "metadata": {
        "ExecuteTime": {
          "start_time": "2023-10-23T13:56:14.806124Z",
          "end_time": "2023-10-23T13:56:14.820707Z"
        },
        "id": "ul4LSaBTsg5G"
      }
    },
    {
      "cell_type": "code",
      "execution_count": 16,
      "outputs": [
        {
          "output_type": "execute_result",
          "data": {
            "text/plain": [
              "VariationalAutoEncoder(\n",
              "  (encoder): VariationalEncoder(\n",
              "    (conv1): Conv2d(1, 32, kernel_size=(3, 3), stride=(1, 1), padding=(1, 1))\n",
              "    (conv2): Conv2d(32, 64, kernel_size=(3, 3), stride=(1, 1), padding=(1, 1))\n",
              "    (fc1): Linear(in_features=3136, out_features=128, bias=True)\n",
              "    (mu): Linear(in_features=128, out_features=2, bias=True)\n",
              "    (logvar): Linear(in_features=128, out_features=2, bias=True)\n",
              "    (sampling): SamplingLayer()\n",
              "  )\n",
              "  (decoder): VariationalDecoder(\n",
              "    (fc1): Linear(in_features=2, out_features=128, bias=True)\n",
              "    (t_conv1): ConvTranspose2d(128, 64, kernel_size=(7, 7), stride=(2, 2), padding=(1, 1))\n",
              "    (t_conv2): ConvTranspose2d(64, 32, kernel_size=(7, 7), stride=(2, 2), padding=(1, 1))\n",
              "    (t_conv3): ConvTranspose2d(32, 1, kernel_size=(6, 6), stride=(2, 2), padding=(1, 1))\n",
              "  )\n",
              ")"
            ]
          },
          "metadata": {},
          "execution_count": 16
        }
      ],
      "source": [
        "\n",
        "variational_autoencoder = VariationalAutoEncoder(1, 128, 2)\n",
        "variational_autoencoder.to(device)"
      ],
      "metadata": {
        "ExecuteTime": {
          "start_time": "2023-10-23T13:56:15.349879Z",
          "end_time": "2023-10-23T13:56:15.366065Z"
        },
        "id": "8rWg0DCEsg5H",
        "outputId": "064a35ad-10d1-4500-f191-8db18c983df6",
        "colab": {
          "base_uri": "https://localhost:8080/"
        }
      }
    },
    {
      "cell_type": "code",
      "execution_count": 17,
      "outputs": [
        {
          "output_type": "stream",
          "name": "stdout",
          "text": [
            "VariationalAutoEncoder(\n",
            "  (encoder): VariationalEncoder(\n",
            "    (conv1): Conv2d(1, 32, kernel_size=(3, 3), stride=(1, 1), padding=(1, 1))\n",
            "    (conv2): Conv2d(32, 64, kernel_size=(3, 3), stride=(1, 1), padding=(1, 1))\n",
            "    (fc1): Linear(in_features=3136, out_features=128, bias=True)\n",
            "    (mu): Linear(in_features=128, out_features=2, bias=True)\n",
            "    (logvar): Linear(in_features=128, out_features=2, bias=True)\n",
            "    (sampling): SamplingLayer()\n",
            "  )\n",
            "  (decoder): VariationalDecoder(\n",
            "    (fc1): Linear(in_features=2, out_features=128, bias=True)\n",
            "    (t_conv1): ConvTranspose2d(128, 64, kernel_size=(7, 7), stride=(2, 2), padding=(1, 1))\n",
            "    (t_conv2): ConvTranspose2d(64, 32, kernel_size=(7, 7), stride=(2, 2), padding=(1, 1))\n",
            "    (t_conv3): ConvTranspose2d(32, 1, kernel_size=(6, 6), stride=(2, 2), padding=(1, 1))\n",
            "  )\n",
            ")\n"
          ]
        }
      ],
      "source": [
        "print(variational_autoencoder)"
      ],
      "metadata": {
        "ExecuteTime": {
          "start_time": "2023-10-23T13:56:15.891926Z",
          "end_time": "2023-10-23T13:56:15.903193Z"
        },
        "id": "mGWqhxxtsg5H",
        "outputId": "cbfeb621-013b-4d3c-ce7f-afddb0a255b4",
        "colab": {
          "base_uri": "https://localhost:8080/"
        }
      }
    },
    {
      "cell_type": "code",
      "execution_count": 18,
      "outputs": [],
      "source": [
        "batch_size = 256\n",
        "lr = 1e-3\n",
        "epochs = 10\n",
        "optimizer = torch.optim.Adam(variational_autoencoder.parameters(), lr=lr)\n"
      ],
      "metadata": {
        "ExecuteTime": {
          "start_time": "2023-10-23T13:56:16.360167Z",
          "end_time": "2023-10-23T13:56:16.372611Z"
        },
        "id": "BJ2uR1aBsg5H"
      }
    },
    {
      "cell_type": "code",
      "execution_count": 19,
      "outputs": [],
      "source": [
        "# take only 10 % of the data\n",
        "\n",
        "mnist_trainset.data = mnist_trainset.data[:int(len(mnist_trainset.data)/10)]\n",
        "mnist_trainset.targets = mnist_trainset.targets[:int(len(mnist_trainset.targets)/10)]\n",
        "\n",
        "mnist_trainloader = torch.utils.data.DataLoader(mnist_trainset, batch_size=batch_size, shuffle=True)\n"
      ],
      "metadata": {
        "ExecuteTime": {
          "start_time": "2023-10-23T13:56:17.248791Z",
          "end_time": "2023-10-23T13:56:17.263546Z"
        },
        "id": "yGchFGa7sg5H"
      }
    },
    {
      "cell_type": "code",
      "execution_count": 20,
      "outputs": [],
      "source": [
        "def train(epochs):\n",
        "    for epoch in range(epochs):\n",
        "        epoch_loss = 0\n",
        "\n",
        "        for i, (images, _) in enumerate(mnist_trainloader):\n",
        "            images = images.float()/255\n",
        "            images = images.to(device)\n",
        "            x, mu, sigma, original_x = variational_autoencoder(images)\n",
        "            loss = loss_function(x, original_x, mu, sigma)\n",
        "            epoch_loss += loss.item()\n",
        "            optimizer.zero_grad()\n",
        "            loss.backward()\n",
        "            optimizer.step()\n",
        "        print(f'Epoch: {epoch+1}, Loss: {epoch_loss/len(mnist_trainloader.dataset)}')\n"
      ],
      "metadata": {
        "ExecuteTime": {
          "start_time": "2023-10-23T13:56:17.671261Z",
          "end_time": "2023-10-23T13:56:17.681481Z"
        },
        "id": "M8bZ-nEKsg5H"
      }
    },
    {
      "cell_type": "code",
      "execution_count": 21,
      "outputs": [
        {
          "output_type": "error",
          "ename": "RuntimeError",
          "evalue": "ignored",
          "traceback": [
            "\u001b[0;31m---------------------------------------------------------------------------\u001b[0m",
            "\u001b[0;31mRuntimeError\u001b[0m                              Traceback (most recent call last)",
            "\u001b[0;32m<ipython-input-21-84557d09d340>\u001b[0m in \u001b[0;36m<cell line: 1>\u001b[0;34m()\u001b[0m\n\u001b[0;32m----> 1\u001b[0;31m \u001b[0mtrain\u001b[0m\u001b[0;34m(\u001b[0m\u001b[0;36m10\u001b[0m\u001b[0;34m)\u001b[0m\u001b[0;34m\u001b[0m\u001b[0;34m\u001b[0m\u001b[0m\n\u001b[0m",
            "\u001b[0;32m<ipython-input-20-13b59fe3d9b0>\u001b[0m in \u001b[0;36mtrain\u001b[0;34m(epochs)\u001b[0m\n\u001b[1;32m      8\u001b[0m             \u001b[0mx\u001b[0m\u001b[0;34m,\u001b[0m \u001b[0mmu\u001b[0m\u001b[0;34m,\u001b[0m \u001b[0msigma\u001b[0m\u001b[0;34m,\u001b[0m \u001b[0moriginal_x\u001b[0m \u001b[0;34m=\u001b[0m \u001b[0mvariational_autoencoder\u001b[0m\u001b[0;34m(\u001b[0m\u001b[0mimages\u001b[0m\u001b[0;34m)\u001b[0m\u001b[0;34m\u001b[0m\u001b[0;34m\u001b[0m\u001b[0m\n\u001b[1;32m      9\u001b[0m             \u001b[0mloss\u001b[0m \u001b[0;34m=\u001b[0m \u001b[0mloss_function\u001b[0m\u001b[0;34m(\u001b[0m\u001b[0mx\u001b[0m\u001b[0;34m,\u001b[0m \u001b[0moriginal_x\u001b[0m\u001b[0;34m,\u001b[0m \u001b[0mmu\u001b[0m\u001b[0;34m,\u001b[0m \u001b[0msigma\u001b[0m\u001b[0;34m)\u001b[0m\u001b[0;34m\u001b[0m\u001b[0;34m\u001b[0m\u001b[0m\n\u001b[0;32m---> 10\u001b[0;31m             \u001b[0mepoch_loss\u001b[0m \u001b[0;34m+=\u001b[0m \u001b[0mloss\u001b[0m\u001b[0;34m.\u001b[0m\u001b[0mitem\u001b[0m\u001b[0;34m(\u001b[0m\u001b[0;34m)\u001b[0m\u001b[0;34m\u001b[0m\u001b[0;34m\u001b[0m\u001b[0m\n\u001b[0m\u001b[1;32m     11\u001b[0m             \u001b[0moptimizer\u001b[0m\u001b[0;34m.\u001b[0m\u001b[0mzero_grad\u001b[0m\u001b[0;34m(\u001b[0m\u001b[0;34m)\u001b[0m\u001b[0;34m\u001b[0m\u001b[0;34m\u001b[0m\u001b[0m\n\u001b[1;32m     12\u001b[0m             \u001b[0mloss\u001b[0m\u001b[0;34m.\u001b[0m\u001b[0mbackward\u001b[0m\u001b[0;34m(\u001b[0m\u001b[0;34m)\u001b[0m\u001b[0;34m\u001b[0m\u001b[0;34m\u001b[0m\u001b[0m\n",
            "\u001b[0;31mRuntimeError\u001b[0m: CUDA error: device-side assert triggered\nCUDA kernel errors might be asynchronously reported at some other API call, so the stacktrace below might be incorrect.\nFor debugging consider passing CUDA_LAUNCH_BLOCKING=1.\nCompile with `TORCH_USE_CUDA_DSA` to enable device-side assertions.\n"
          ]
        }
      ],
      "source": [
        "train(10)"
      ],
      "metadata": {
        "ExecuteTime": {
          "start_time": "2023-10-23T13:56:33.111695Z",
          "end_time": "2023-10-23T13:57:14.479661Z"
        },
        "id": "APl-4tyqsg5H",
        "outputId": "1e3ac56c-182a-42be-8985-204cff9d051c",
        "colab": {
          "base_uri": "https://localhost:8080/",
          "height": 429
        }
      }
    },
    {
      "cell_type": "code",
      "execution_count": null,
      "outputs": [],
      "source": [
        "# take all images from the train set\n",
        "images = mnist_trainset.data.float().unsqueeze(1)/255\n",
        "print(len(mnist_trainset.data))\n",
        "print(len(mnist_trainset.targets))\n",
        "images = images.to(device)\n",
        "encoded = variational_autoencoder.encoder( images)\n",
        "decoded = variational_autoencoder.decoder( encoded[0])\n",
        "# plot the encoded images in 2D, and the decoded images\n",
        "encoded_images = encoded[0].cpu().detach().numpy()\n",
        "plt.scatter(encoded_images[:, 0], encoded_images[:, 1], c=mnist_trainset.targets.numpy())\n",
        "plt.colorbar()\n",
        "plt.show()\n"
      ],
      "metadata": {
        "ExecuteTime": {
          "start_time": "2023-10-23T13:57:59.491833Z",
          "end_time": "2023-10-23T13:58:01.514625Z"
        },
        "id": "9dkQ622dsg5H"
      }
    },
    {
      "cell_type": "code",
      "execution_count": null,
      "outputs": [],
      "source": [
        "# take 10 images from the train set\n",
        "images = mnist_trainset.data[:10].float().unsqueeze(1) / 255\n",
        "images = images.to(device)\n",
        "encoded = variational_autoencoder.encoder( images)\n",
        "\n",
        "decoded = variational_autoencoder.decoder( encoded[0]) * 255\n",
        "\n",
        "# plot the encoded images in 2D, and the decoded images\n",
        "encoded_images = encoded[0].cpu().detach().numpy()\n",
        "plt.scatter(encoded_images[:, 0], encoded_images[:, 1], c=mnist_trainset.targets[:10].numpy())\n",
        "plt.colorbar()\n",
        "plt.show()\n",
        "# plot the decoded images, in a 2 by 5 grid, with the original images on top of each decoded of the decoded images\n",
        "f, axarr = plt.subplots(2, 5)\n",
        "for i in range(5):\n",
        "    # original images\n",
        "    # write Original on top of the image\n",
        "    axarr[0, i].set_title('Original')\n",
        "    axarr[0, i].imshow(images[i, 0].cpu().detach().numpy())\n",
        "    # decoded images\n",
        "    # write Decoded on top of the image\n",
        "    axarr[1, i].set_title('Decoded')\n",
        "    axarr[1, i].imshow(decoded[i, 0].cpu().detach().numpy())\n",
        "plt.show()"
      ],
      "metadata": {
        "ExecuteTime": {
          "start_time": "2023-10-23T13:58:49.455171Z",
          "end_time": "2023-10-23T13:58:49.921623Z"
        },
        "id": "wGiR7vwfsg5H"
      }
    },
    {
      "cell_type": "code",
      "execution_count": null,
      "outputs": [],
      "source": [],
      "metadata": {
        "id": "bdUvXYWrsg5H"
      }
    }
  ],
  "metadata": {
    "kernelspec": {
      "display_name": "Python 3",
      "name": "python3"
    },
    "language_info": {
      "codemirror_mode": {
        "name": "ipython",
        "version": 2
      },
      "file_extension": ".py",
      "mimetype": "text/x-python",
      "name": "python",
      "nbconvert_exporter": "python",
      "pygments_lexer": "ipython2",
      "version": "2.7.6"
    },
    "colab": {
      "provenance": [],
      "toc_visible": true,
      "gpuType": "T4",
      "include_colab_link": true
    },
    "accelerator": "GPU"
  },
  "nbformat": 4,
  "nbformat_minor": 0
}